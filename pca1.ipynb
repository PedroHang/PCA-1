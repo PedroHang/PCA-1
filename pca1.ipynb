{
 "cells": [
  {
   "cell_type": "markdown",
   "metadata": {},
   "source": [
    "# PCA - Tarefa 01: *HAR* com PCA\n",
    "\n",
    "Vamos trabalhar com a base da demonstração feita em aula, mas vamos explorar um pouco melhor como é o desempenho da árvore variando o número de componentes principais."
   ]
  },
  {
   "cell_type": "code",
   "execution_count": 64,
   "metadata": {},
   "outputs": [],
   "source": [
    "import pandas as pd\n",
    "from sklearn.tree import DecisionTreeClassifier\n",
    "from sklearn.decomposition import PCA\n",
    "from sklearn.metrics import accuracy_score\n",
    "from sklearn.model_selection import cross_val_score, GridSearchCV\n",
    "import numpy as np\n",
    "\n",
    "features_df = pd.read_fwf('features.txt', header=None)\n",
    "subject_train = pd.read_fwf('./train/subject_train.txt', header=None)\n",
    "X_train = pd.read_fwf('./train/X_train.txt', header=None)\n",
    "\n",
    "X_train.columns = features_df\n",
    "X_train['Individual'] = subject_train\n",
    "X_train.set_index('Individual', append=True, inplace=True)\n",
    "\n",
    "X_train.to_csv('X_train_final.csv')\n",
    "\n",
    "features_df = pd.read_fwf('features.txt', header=None)\n",
    "subject_test = pd.read_fwf('./test/subject_test.txt', header=None)\n",
    "X_test = pd.read_fwf('./test/X_test.txt', header=None)\n",
    "\n",
    "X_test.columns = features_df\n",
    "X_test['Individual'] = subject_test\n",
    "X_test.set_index('Individual', append=True, inplace=True)\n",
    "\n",
    "X_test.to_csv('X_test_final.csv')\n",
    "\n",
    "y_train = pd.read_fwf('./train/y_train.txt', header=None)\n",
    "y_test = pd.read_fwf('./test/y_test.txt', header=None)\n"
   ]
  },
  {
   "cell_type": "code",
   "execution_count": 83,
   "metadata": {},
   "outputs": [],
   "source": [
    "import numpy as np"
   ]
  },
  {
   "cell_type": "code",
   "execution_count": 65,
   "metadata": {},
   "outputs": [],
   "source": [
    "X_train.reset_index(inplace=True)\n",
    "X_train.drop(columns=[\"Individual\"], inplace=True)\n",
    "\n",
    "X_test.reset_index(inplace=True)\n",
    "X_test.drop(columns=[\"Individual\"], inplace=True)"
   ]
  },
  {
   "cell_type": "code",
   "execution_count": 66,
   "metadata": {},
   "outputs": [],
   "source": [
    "X_train.drop(columns=['level_0'], inplace=True)\n",
    "X_test.drop(columns=['level_0'], inplace=True)"
   ]
  },
  {
   "cell_type": "markdown",
   "metadata": {},
   "source": [
    "## Árvore de decisão\n",
    "\n",
    "Rode uma árvore de decisão com todas as variáveis, utilizando o ```ccp_alpha=0.001```. Avalie a acurácia nas bases de treinamento e teste. Avalie o tempo de processamento."
   ]
  },
  {
   "cell_type": "code",
   "execution_count": 68,
   "metadata": {},
   "outputs": [
    {
     "name": "stdout",
     "output_type": "stream",
     "text": [
      "CPU times: total: 3.97 s\n",
      "Wall time: 4.75 s\n"
     ]
    }
   ],
   "source": [
    "%%time\n",
    "\n",
    "clf0 = DecisionTreeClassifier(random_state=2360873, ccp_alpha=0.001).fit(X_train, y_train)"
   ]
  },
  {
   "cell_type": "code",
   "execution_count": 69,
   "metadata": {},
   "outputs": [],
   "source": [
    "train_scores = clf0.score(X_train, y_train)\n",
    "test_scores  = clf0.score(X_test, y_test)"
   ]
  },
  {
   "cell_type": "code",
   "execution_count": 70,
   "metadata": {},
   "outputs": [
    {
     "name": "stdout",
     "output_type": "stream",
     "text": [
      "Accuracy na base de treino: 0.9757889009793254\n",
      "Accuracy na base de testes: 0.8791991856124872\n"
     ]
    }
   ],
   "source": [
    "print('Accuracy na base de treino: ' + str(train_scores))\n",
    "print('Accuracy na base de testes: ' + str(test_scores))"
   ]
  },
  {
   "cell_type": "markdown",
   "metadata": {},
   "source": [
    "## Árvore com PCA\n",
    "\n",
    "Faça uma análise de componemtes principais das variáveis originais. Utilize apenas uma componente. Faça uma árvore de decisão com esta componente como variável explicativa.\n",
    "\n",
    "- Avalie a acurácia nas bases de treinamento e teste\n",
    "- Avalie o tempo de processamento"
   ]
  },
  {
   "cell_type": "code",
   "execution_count": 75,
   "metadata": {},
   "outputs": [
    {
     "name": "stdout",
     "output_type": "stream",
     "text": [
      "CPU times: total: 406 ms\n",
      "Wall time: 220 ms\n"
     ]
    }
   ],
   "source": [
    "%%time\n",
    "\n",
    "prcomp = PCA().fit(X_train)\n",
    "\n",
    "pc_treino = prcomp.transform(X_train)\n",
    "pc_teste = prcomp.transform(X_test)\n"
   ]
  },
  {
   "cell_type": "code",
   "execution_count": 77,
   "metadata": {},
   "outputs": [
    {
     "data": {
      "text/plain": [
       "[0]"
      ]
     },
     "execution_count": 77,
     "metadata": {},
     "output_type": "execute_result"
    }
   ],
   "source": [
    "n =  1\n",
    "list(range(n))"
   ]
  },
  {
   "cell_type": "code",
   "execution_count": 79,
   "metadata": {},
   "outputs": [
    {
     "data": {
      "text/plain": [
       "(7352, 1)"
      ]
     },
     "execution_count": 79,
     "metadata": {},
     "output_type": "execute_result"
    }
   ],
   "source": [
    "colunas = ['cp' + str(x+1) for x in list(range(n))]\n",
    "\n",
    "pc_train = pd.DataFrame(pc_treino[:,:n], columns = colunas)\n",
    "pc_test = pd.DataFrame(pc_teste[:,:n], columns = colunas)\n",
    "\n",
    "pc_train.shape"
   ]
  },
  {
   "cell_type": "code",
   "execution_count": 85,
   "metadata": {},
   "outputs": [
    {
     "name": "stdout",
     "output_type": "stream",
     "text": [
      "CPU times: total: 4.72 s\n",
      "Wall time: 5.15 s\n"
     ]
    }
   ],
   "source": [
    "%%time\n",
    "\n",
    "clf = DecisionTreeClassifier(random_state=1234, ccp_alpha=0.001).fit(pc_train, y_train)"
   ]
  },
  {
   "cell_type": "code",
   "execution_count": 87,
   "metadata": {},
   "outputs": [],
   "source": [
    "train_scores = clf.score(pc_train, y_train)\n",
    "test_scores  = clf.score(pc_test, y_test)"
   ]
  },
  {
   "cell_type": "code",
   "execution_count": 89,
   "metadata": {},
   "outputs": [
    {
     "name": "stdout",
     "output_type": "stream",
     "text": [
      "Accuracy na base de treino: 0.1913764961915125\n",
      "Accuracy na base de testes: 0.18221920597217509\n"
     ]
    }
   ],
   "source": [
    "print('Accuracy na base de treino: ' + str(train_scores))\n",
    "print('Accuracy na base de testes: ' + str(test_scores))"
   ]
  },
  {
   "cell_type": "markdown",
   "metadata": {},
   "source": [
    "## Testando o número de componentes\n",
    "\n",
    "Com base no código acima, teste a árvore de classificação com pelo menos as seguintes possibilidades de quantidades de componentes: ```[1, 2, 5, 10, 50]```. Avalie para cada uma delas:\n",
    "\n",
    "- Acurácia nas bases de treino e teste\n",
    "- Tempo de processamento\n"
   ]
  },
  {
   "cell_type": "code",
   "execution_count": 101,
   "metadata": {},
   "outputs": [
    {
     "name": "stdout",
     "output_type": "stream",
     "text": [
      "Accuracy na base de treino: 0.6145266594124048\n",
      "Accuracy na base de testes: 0.5856803529012555\n",
      "CPU times: total: 31.2 ms\n",
      "Wall time: 50.6 ms\n"
     ]
    }
   ],
   "source": [
    "%%time\n",
    "n = 2\n",
    "colunas = ['cp' + str(x+1) for x in list(range(n))]\n",
    "\n",
    "pc_train = pd.DataFrame(pc_treino[:,:n], columns = colunas)\n",
    "pc_test = pd.DataFrame(pc_teste[:,:n], columns = colunas)\n",
    "\n",
    "pc_train.shape\n",
    "\n",
    "clf = DecisionTreeClassifier(random_state=1234, ccp_alpha=0.001).fit(pc_train, y_train)\n",
    "\n",
    "train_scores = clf.score(pc_train, y_train)\n",
    "test_scores  = clf.score(pc_test, y_test)\n",
    "\n",
    "print('Accuracy na base de treino: ' + str(train_scores))\n",
    "print('Accuracy na base de testes: ' + str(test_scores))"
   ]
  },
  {
   "cell_type": "code",
   "execution_count": 103,
   "metadata": {},
   "outputs": [
    {
     "name": "stdout",
     "output_type": "stream",
     "text": [
      "Accuracy na base de treino: 0.8513329706202394\n",
      "Accuracy na base de testes: 0.7885985748218527\n",
      "CPU times: total: 31.2 ms\n",
      "Wall time: 59.5 ms\n"
     ]
    }
   ],
   "source": [
    "%%time\n",
    "n = 5\n",
    "colunas = ['cp' + str(x+1) for x in list(range(n))]\n",
    "\n",
    "pc_train = pd.DataFrame(pc_treino[:,:n], columns = colunas)\n",
    "pc_test = pd.DataFrame(pc_teste[:,:n], columns = colunas)\n",
    "\n",
    "pc_train.shape\n",
    "\n",
    "clf = DecisionTreeClassifier(random_state=1234, ccp_alpha=0.001).fit(pc_train, y_train)\n",
    "\n",
    "train_scores = clf.score(pc_train, y_train)\n",
    "test_scores  = clf.score(pc_test, y_test)\n",
    "\n",
    "print('Accuracy na base de treino: ' + str(train_scores))\n",
    "print('Accuracy na base de testes: ' + str(test_scores))"
   ]
  },
  {
   "cell_type": "code",
   "execution_count": 105,
   "metadata": {},
   "outputs": [
    {
     "name": "stdout",
     "output_type": "stream",
     "text": [
      "Accuracy na base de treino: 0.8865614798694232\n",
      "Accuracy na base de testes: 0.8025110281642348\n",
      "CPU times: total: 93.8 ms\n",
      "Wall time: 111 ms\n"
     ]
    }
   ],
   "source": [
    "%%time\n",
    "n = 10\n",
    "colunas = ['cp' + str(x+1) for x in list(range(n))]\n",
    "\n",
    "pc_train = pd.DataFrame(pc_treino[:,:n], columns = colunas)\n",
    "pc_test = pd.DataFrame(pc_teste[:,:n], columns = colunas)\n",
    "\n",
    "pc_train.shape\n",
    "\n",
    "clf = DecisionTreeClassifier(random_state=1234, ccp_alpha=0.001).fit(pc_train, y_train)\n",
    "\n",
    "train_scores = clf.score(pc_train, y_train)\n",
    "test_scores  = clf.score(pc_test, y_test)\n",
    "\n",
    "print('Accuracy na base de treino: ' + str(train_scores))\n",
    "print('Accuracy na base de testes: ' + str(test_scores))"
   ]
  },
  {
   "cell_type": "code",
   "execution_count": 107,
   "metadata": {},
   "outputs": [
    {
     "name": "stdout",
     "output_type": "stream",
     "text": [
      "Accuracy na base de treino: 0.919885745375408\n",
      "Accuracy na base de testes: 0.8116728876823889\n",
      "CPU times: total: 469 ms\n",
      "Wall time: 560 ms\n"
     ]
    }
   ],
   "source": [
    "%%time\n",
    "n = 50\n",
    "colunas = ['cp' + str(x+1) for x in list(range(n))]\n",
    "\n",
    "pc_train = pd.DataFrame(pc_treino[:,:n], columns = colunas)\n",
    "pc_test = pd.DataFrame(pc_teste[:,:n], columns = colunas)\n",
    "\n",
    "pc_train.shape\n",
    "\n",
    "clf = DecisionTreeClassifier(random_state=1234, ccp_alpha=0.001).fit(pc_train, y_train)\n",
    "\n",
    "train_scores = clf.score(pc_train, y_train)\n",
    "test_scores  = clf.score(pc_test, y_test)\n",
    "\n",
    "print('Accuracy na base de treino: ' + str(train_scores))\n",
    "print('Accuracy na base de testes: ' + str(test_scores))"
   ]
  },
  {
   "cell_type": "markdown",
   "metadata": {},
   "source": [
    "## Conclua\n",
    "\n",
    "- O que aconteceu com a acurácia?\n",
    "- O que aconteceu com o tempo de processamento?"
   ]
  },
  {
   "cell_type": "markdown",
   "metadata": {},
   "source": [
    "### A acurácia apresentou valores muito ruins para somente 1 variável, porém, a medida em que incrementamos mais variáveis, nossa acurácia foi se mostrando cada vez mais satisfatória, porém, se aproximando de um \"teto\"."
   ]
  },
  {
   "cell_type": "markdown",
   "metadata": {},
   "source": [
    "###"
   ]
  }
 ],
 "metadata": {
  "kernelspec": {
   "display_name": "Python 3 (ipykernel)",
   "language": "python",
   "name": "python3"
  },
  "language_info": {
   "codemirror_mode": {
    "name": "ipython",
    "version": 3
   },
   "file_extension": ".py",
   "mimetype": "text/x-python",
   "name": "python",
   "nbconvert_exporter": "python",
   "pygments_lexer": "ipython3",
   "version": "3.11.7"
  },
  "toc": {
   "base_numbering": 1,
   "nav_menu": {},
   "number_sections": true,
   "sideBar": true,
   "skip_h1_title": true,
   "title_cell": "Índice",
   "title_sidebar": "Conteúdo",
   "toc_cell": false,
   "toc_position": {},
   "toc_section_display": true,
   "toc_window_display": false
  },
  "varInspector": {
   "cols": {
    "lenName": 16,
    "lenType": 16,
    "lenVar": 40
   },
   "kernels_config": {
    "python": {
     "delete_cmd_postfix": "",
     "delete_cmd_prefix": "del ",
     "library": "var_list.py",
     "varRefreshCmd": "print(var_dic_list())"
    },
    "r": {
     "delete_cmd_postfix": ") ",
     "delete_cmd_prefix": "rm(",
     "library": "var_list.r",
     "varRefreshCmd": "cat(var_dic_list()) "
    }
   },
   "types_to_exclude": [
    "module",
    "function",
    "builtin_function_or_method",
    "instance",
    "_Feature"
   ],
   "window_display": false
  }
 },
 "nbformat": 4,
 "nbformat_minor": 4
}
